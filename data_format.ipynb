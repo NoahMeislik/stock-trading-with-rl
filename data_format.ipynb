{
 "cells": [
  {
   "cell_type": "code",
   "execution_count": 72,
   "metadata": {},
   "outputs": [],
   "source": [
    "%matplotlib inline\n",
    "import numpy as np\n",
    "import pandas as pd\n",
    "from matplotlib import pyplot as plt"
   ]
  },
  {
   "cell_type": "code",
   "execution_count": 62,
   "metadata": {},
   "outputs": [],
   "source": [
    "df = pd.read_csv(\"table_aapl.csv\")"
   ]
  },
  {
   "cell_type": "code",
   "execution_count": 63,
   "metadata": {},
   "outputs": [
    {
     "data": {
      "text/html": [
       "<div>\n",
       "<style scoped>\n",
       "    .dataframe tbody tr th:only-of-type {\n",
       "        vertical-align: middle;\n",
       "    }\n",
       "\n",
       "    .dataframe tbody tr th {\n",
       "        vertical-align: top;\n",
       "    }\n",
       "\n",
       "    .dataframe thead th {\n",
       "        text-align: right;\n",
       "    }\n",
       "</style>\n",
       "<table border=\"1\" class=\"dataframe\">\n",
       "  <thead>\n",
       "    <tr style=\"text-align: right;\">\n",
       "      <th></th>\n",
       "      <th>19980102</th>\n",
       "      <th>831</th>\n",
       "      <th>0.4764</th>\n",
       "      <th>0.4764.1</th>\n",
       "      <th>0.4764.2</th>\n",
       "      <th>0.4764.3</th>\n",
       "      <th>72411.2</th>\n",
       "      <th>28</th>\n",
       "      <th>0</th>\n",
       "      <th>0.1</th>\n",
       "    </tr>\n",
       "  </thead>\n",
       "  <tbody>\n",
       "    <tr>\n",
       "      <th>0</th>\n",
       "      <td>19980102</td>\n",
       "      <td>841</td>\n",
       "      <td>0.4288</td>\n",
       "      <td>0.4288</td>\n",
       "      <td>0.4288</td>\n",
       "      <td>0.4288</td>\n",
       "      <td>62966.2</td>\n",
       "      <td>28</td>\n",
       "      <td>0</td>\n",
       "      <td>0.0</td>\n",
       "    </tr>\n",
       "    <tr>\n",
       "      <th>1</th>\n",
       "      <td>19980102</td>\n",
       "      <td>844</td>\n",
       "      <td>0.4288</td>\n",
       "      <td>0.4288</td>\n",
       "      <td>0.4288</td>\n",
       "      <td>0.4288</td>\n",
       "      <td>12593.2</td>\n",
       "      <td>28</td>\n",
       "      <td>0</td>\n",
       "      <td>0.0</td>\n",
       "    </tr>\n",
       "    <tr>\n",
       "      <th>2</th>\n",
       "      <td>19980102</td>\n",
       "      <td>902</td>\n",
       "      <td>0.4288</td>\n",
       "      <td>0.4288</td>\n",
       "      <td>0.4288</td>\n",
       "      <td>0.4288</td>\n",
       "      <td>31483.1</td>\n",
       "      <td>28</td>\n",
       "      <td>0</td>\n",
       "      <td>0.0</td>\n",
       "    </tr>\n",
       "    <tr>\n",
       "      <th>3</th>\n",
       "      <td>19980102</td>\n",
       "      <td>915</td>\n",
       "      <td>0.4329</td>\n",
       "      <td>0.4329</td>\n",
       "      <td>0.4329</td>\n",
       "      <td>0.4329</td>\n",
       "      <td>78707.8</td>\n",
       "      <td>28</td>\n",
       "      <td>0</td>\n",
       "      <td>0.0</td>\n",
       "    </tr>\n",
       "    <tr>\n",
       "      <th>4</th>\n",
       "      <td>19980102</td>\n",
       "      <td>920</td>\n",
       "      <td>0.4307</td>\n",
       "      <td>0.4329</td>\n",
       "      <td>0.4307</td>\n",
       "      <td>0.4329</td>\n",
       "      <td>157416.0</td>\n",
       "      <td>28</td>\n",
       "      <td>0</td>\n",
       "      <td>0.0</td>\n",
       "    </tr>\n",
       "  </tbody>\n",
       "</table>\n",
       "</div>"
      ],
      "text/plain": [
       "   19980102  831  0.4764  0.4764.1  0.4764.2  0.4764.3   72411.2  28  0  0.1\n",
       "0  19980102  841  0.4288    0.4288    0.4288    0.4288   62966.2  28  0  0.0\n",
       "1  19980102  844  0.4288    0.4288    0.4288    0.4288   12593.2  28  0  0.0\n",
       "2  19980102  902  0.4288    0.4288    0.4288    0.4288   31483.1  28  0  0.0\n",
       "3  19980102  915  0.4329    0.4329    0.4329    0.4329   78707.8  28  0  0.0\n",
       "4  19980102  920  0.4307    0.4329    0.4307    0.4329  157416.0  28  0  0.0"
      ]
     },
     "execution_count": 63,
     "metadata": {},
     "output_type": "execute_result"
    }
   ],
   "source": [
    "df.head()"
   ]
  },
  {
   "cell_type": "code",
   "execution_count": 64,
   "metadata": {},
   "outputs": [],
   "source": [
    "df.columns = [\"Date\", \"Time\", \"Open\", \"High\", \"Low\", \"Close\", \"Volume\", \"Splits\", \"Earnings\", \"Dividends\"]"
   ]
  },
  {
   "cell_type": "code",
   "execution_count": 65,
   "metadata": {},
   "outputs": [],
   "source": [
    "df = df.drop(\"Earnings\", axis=1)\n"
   ]
  },
  {
   "cell_type": "code",
   "execution_count": 66,
   "metadata": {},
   "outputs": [],
   "source": [
    "df = df.drop(\"Dividends\", axis=1)"
   ]
  },
  {
   "cell_type": "code",
   "execution_count": 67,
   "metadata": {},
   "outputs": [],
   "source": [
    "df = df.drop(\"Splits\", axis=1)"
   ]
  },
  {
   "cell_type": "code",
   "execution_count": 68,
   "metadata": {},
   "outputs": [],
   "source": [
    "minutes_in_day = 1440\n",
    "days_in_year = 365\n"
   ]
  },
  {
   "cell_type": "code",
   "execution_count": 69,
   "metadata": {},
   "outputs": [],
   "source": [
    "from datetime import datetime"
   ]
  },
  {
   "cell_type": "code",
   "execution_count": 70,
   "metadata": {},
   "outputs": [
    {
     "name": "stdout",
     "output_type": "stream",
     "text": [
      "Wall time: 1min 7s\n"
     ]
    }
   ],
   "source": [
    "%%time\n",
    "\n",
    "sin_days = []\n",
    "cos_days = []\n",
    "for date in df[\"Date\"]:\n",
    "    date = datetime.strptime(str(date), \"%Y%m%d\")\n",
    "    date = float(date.strftime(\"%j\"))\n",
    "    sin_days.append(np.sin(2*np.pi*date/days_in_year))\n",
    "    cos_days.append(np.cos(2*np.pi*date/days_in_year))"
   ]
  },
  {
   "cell_type": "code",
   "execution_count": 83,
   "metadata": {},
   "outputs": [
    {
     "data": {
      "text/html": [
       "<div>\n",
       "<style scoped>\n",
       "    .dataframe tbody tr th:only-of-type {\n",
       "        vertical-align: middle;\n",
       "    }\n",
       "\n",
       "    .dataframe tbody tr th {\n",
       "        vertical-align: top;\n",
       "    }\n",
       "\n",
       "    .dataframe thead th {\n",
       "        text-align: right;\n",
       "    }\n",
       "</style>\n",
       "<table border=\"1\" class=\"dataframe\">\n",
       "  <thead>\n",
       "    <tr style=\"text-align: right;\">\n",
       "      <th></th>\n",
       "      <th>Time</th>\n",
       "      <th>Open</th>\n",
       "      <th>High</th>\n",
       "      <th>Low</th>\n",
       "      <th>Close</th>\n",
       "      <th>Volume</th>\n",
       "      <th>sin_days</th>\n",
       "      <th>cos_days</th>\n",
       "    </tr>\n",
       "  </thead>\n",
       "  <tbody>\n",
       "    <tr>\n",
       "      <th>0</th>\n",
       "      <td>841</td>\n",
       "      <td>0.4288</td>\n",
       "      <td>0.4288</td>\n",
       "      <td>0.4288</td>\n",
       "      <td>0.4288</td>\n",
       "      <td>62966.2</td>\n",
       "      <td>0.034422</td>\n",
       "      <td>0.999407</td>\n",
       "    </tr>\n",
       "    <tr>\n",
       "      <th>1</th>\n",
       "      <td>844</td>\n",
       "      <td>0.4288</td>\n",
       "      <td>0.4288</td>\n",
       "      <td>0.4288</td>\n",
       "      <td>0.4288</td>\n",
       "      <td>12593.2</td>\n",
       "      <td>0.034422</td>\n",
       "      <td>0.999407</td>\n",
       "    </tr>\n",
       "    <tr>\n",
       "      <th>2</th>\n",
       "      <td>902</td>\n",
       "      <td>0.4288</td>\n",
       "      <td>0.4288</td>\n",
       "      <td>0.4288</td>\n",
       "      <td>0.4288</td>\n",
       "      <td>31483.1</td>\n",
       "      <td>0.034422</td>\n",
       "      <td>0.999407</td>\n",
       "    </tr>\n",
       "    <tr>\n",
       "      <th>3</th>\n",
       "      <td>915</td>\n",
       "      <td>0.4329</td>\n",
       "      <td>0.4329</td>\n",
       "      <td>0.4329</td>\n",
       "      <td>0.4329</td>\n",
       "      <td>78707.8</td>\n",
       "      <td>0.034422</td>\n",
       "      <td>0.999407</td>\n",
       "    </tr>\n",
       "    <tr>\n",
       "      <th>4</th>\n",
       "      <td>920</td>\n",
       "      <td>0.4307</td>\n",
       "      <td>0.4329</td>\n",
       "      <td>0.4307</td>\n",
       "      <td>0.4329</td>\n",
       "      <td>157416.0</td>\n",
       "      <td>0.034422</td>\n",
       "      <td>0.999407</td>\n",
       "    </tr>\n",
       "  </tbody>\n",
       "</table>\n",
       "</div>"
      ],
      "text/plain": [
       "   Time    Open    High     Low   Close    Volume  sin_days  cos_days\n",
       "0   841  0.4288  0.4288  0.4288  0.4288   62966.2  0.034422  0.999407\n",
       "1   844  0.4288  0.4288  0.4288  0.4288   12593.2  0.034422  0.999407\n",
       "2   902  0.4288  0.4288  0.4288  0.4288   31483.1  0.034422  0.999407\n",
       "3   915  0.4329  0.4329  0.4329  0.4329   78707.8  0.034422  0.999407\n",
       "4   920  0.4307  0.4329  0.4307  0.4329  157416.0  0.034422  0.999407"
      ]
     },
     "execution_count": 83,
     "metadata": {},
     "output_type": "execute_result"
    }
   ],
   "source": [
    "df1 = pd.DataFrame({\"sin_days\": sin_days, \"cos_days\": cos_days})\n",
    "df = df.drop(\"Date\", axis=1)\n",
    "df[\"sin_days\"] = sin_days\n",
    "df[\"cos_days\"] = cos_days\n",
    "df.head()"
   ]
  },
  {
   "cell_type": "code",
   "execution_count": 85,
   "metadata": {},
   "outputs": [],
   "source": [
    "sin_time = []\n",
    "cos_time = []\n",
    "for time in df[\"Time\"]:\n",
    "    time = datetime.strptime(str(time), \"%H%M\")\n",
    "    hour = float(time.strftime(\"%H\"))\n",
    "    time = (hour*60.) + float(time.strftime(\"%M\"))\n",
    "    sin_time.append(np.sin(2*np.pi*time/minutes_in_day))\n",
    "    cos_time.append(np.cos(2*np.pi*time/minutes_in_day))"
   ]
  },
  {
   "cell_type": "code",
   "execution_count": 90,
   "metadata": {},
   "outputs": [
    {
     "data": {
      "text/html": [
       "<div>\n",
       "<style scoped>\n",
       "    .dataframe tbody tr th:only-of-type {\n",
       "        vertical-align: middle;\n",
       "    }\n",
       "\n",
       "    .dataframe tbody tr th {\n",
       "        vertical-align: top;\n",
       "    }\n",
       "\n",
       "    .dataframe thead th {\n",
       "        text-align: right;\n",
       "    }\n",
       "</style>\n",
       "<table border=\"1\" class=\"dataframe\">\n",
       "  <thead>\n",
       "    <tr style=\"text-align: right;\">\n",
       "      <th></th>\n",
       "      <th>Open</th>\n",
       "      <th>High</th>\n",
       "      <th>Low</th>\n",
       "      <th>Close</th>\n",
       "      <th>Volume</th>\n",
       "      <th>sin_days</th>\n",
       "      <th>cos_days</th>\n",
       "      <th>sin_time</th>\n",
       "      <th>cos_time</th>\n",
       "    </tr>\n",
       "  </thead>\n",
       "  <tbody>\n",
       "    <tr>\n",
       "      <th>0</th>\n",
       "      <td>0.4288</td>\n",
       "      <td>0.4288</td>\n",
       "      <td>0.4288</td>\n",
       "      <td>0.4288</td>\n",
       "      <td>62966.2</td>\n",
       "      <td>0.034422</td>\n",
       "      <td>0.999407</td>\n",
       "      <td>0.763232</td>\n",
       "      <td>-0.646124</td>\n",
       "    </tr>\n",
       "    <tr>\n",
       "      <th>1</th>\n",
       "      <td>0.4288</td>\n",
       "      <td>0.4288</td>\n",
       "      <td>0.4288</td>\n",
       "      <td>0.4288</td>\n",
       "      <td>12593.2</td>\n",
       "      <td>0.034422</td>\n",
       "      <td>0.999407</td>\n",
       "      <td>0.754710</td>\n",
       "      <td>-0.656059</td>\n",
       "    </tr>\n",
       "    <tr>\n",
       "      <th>2</th>\n",
       "      <td>0.4288</td>\n",
       "      <td>0.4288</td>\n",
       "      <td>0.4288</td>\n",
       "      <td>0.4288</td>\n",
       "      <td>31483.1</td>\n",
       "      <td>0.034422</td>\n",
       "      <td>0.999407</td>\n",
       "      <td>0.700909</td>\n",
       "      <td>-0.713250</td>\n",
       "    </tr>\n",
       "    <tr>\n",
       "      <th>3</th>\n",
       "      <td>0.4329</td>\n",
       "      <td>0.4329</td>\n",
       "      <td>0.4329</td>\n",
       "      <td>0.4329</td>\n",
       "      <td>78707.8</td>\n",
       "      <td>0.034422</td>\n",
       "      <td>0.999407</td>\n",
       "      <td>0.659346</td>\n",
       "      <td>-0.751840</td>\n",
       "    </tr>\n",
       "    <tr>\n",
       "      <th>4</th>\n",
       "      <td>0.4307</td>\n",
       "      <td>0.4329</td>\n",
       "      <td>0.4307</td>\n",
       "      <td>0.4329</td>\n",
       "      <td>157416.0</td>\n",
       "      <td>0.034422</td>\n",
       "      <td>0.999407</td>\n",
       "      <td>0.642788</td>\n",
       "      <td>-0.766044</td>\n",
       "    </tr>\n",
       "  </tbody>\n",
       "</table>\n",
       "</div>"
      ],
      "text/plain": [
       "     Open    High     Low   Close    Volume  sin_days  cos_days  sin_time  \\\n",
       "0  0.4288  0.4288  0.4288  0.4288   62966.2  0.034422  0.999407  0.763232   \n",
       "1  0.4288  0.4288  0.4288  0.4288   12593.2  0.034422  0.999407  0.754710   \n",
       "2  0.4288  0.4288  0.4288  0.4288   31483.1  0.034422  0.999407  0.700909   \n",
       "3  0.4329  0.4329  0.4329  0.4329   78707.8  0.034422  0.999407  0.659346   \n",
       "4  0.4307  0.4329  0.4307  0.4329  157416.0  0.034422  0.999407  0.642788   \n",
       "\n",
       "   cos_time  \n",
       "0 -0.646124  \n",
       "1 -0.656059  \n",
       "2 -0.713250  \n",
       "3 -0.751840  \n",
       "4 -0.766044  "
      ]
     },
     "execution_count": 90,
     "metadata": {},
     "output_type": "execute_result"
    }
   ],
   "source": [
    "df2 = pd.DataFrame({\"sin_time\": sin_time, \"cos_time\": cos_time})\n",
    "#df2.plot.scatter(\"sin_time\", \"cos_time\").set_aspect(\"equal\")\n",
    "df = df.drop(\"Time\", axis=1)\n",
    "df[\"sin_time\"] = sin_time\n",
    "df[\"cos_time\"] = cos_time\n",
    "df.head()"
   ]
  },
  {
   "cell_type": "code",
   "execution_count": 91,
   "metadata": {},
   "outputs": [],
   "source": [
    "df.to_csv(\"AAPL.csv\", sep=\",\", index=False)"
   ]
  },
  {
   "cell_type": "code",
   "execution_count": null,
   "metadata": {},
   "outputs": [],
   "source": []
  }
 ],
 "metadata": {
  "kernelspec": {
   "display_name": "Python 3",
   "language": "python",
   "name": "python3"
  },
  "language_info": {
   "codemirror_mode": {
    "name": "ipython",
    "version": 3
   },
   "file_extension": ".py",
   "mimetype": "text/x-python",
   "name": "python",
   "nbconvert_exporter": "python",
   "pygments_lexer": "ipython3",
   "version": "3.6.4"
  }
 },
 "nbformat": 4,
 "nbformat_minor": 2
}
